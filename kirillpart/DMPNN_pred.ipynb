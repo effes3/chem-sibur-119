{
 "cells": [
  {
   "cell_type": "code",
   "execution_count": 4,
   "metadata": {
    "_cell_guid": "b1076dfc-b9ad-4769-8c92-a6c4dae69d19",
    "_uuid": "8f2839f25d086af736a60e9eeb907d3b93b6e0e5",
    "execution": {
     "iopub.execute_input": "2025-04-17T16:19:42.390321Z",
     "iopub.status.busy": "2025-04-17T16:19:42.389957Z",
     "iopub.status.idle": "2025-04-17T16:19:52.133011Z",
     "shell.execute_reply": "2025-04-17T16:19:52.132031Z",
     "shell.execute_reply.started": "2025-04-17T16:19:42.390294Z"
    },
    "trusted": true
   },
   "outputs": [
    {
     "name": "stdout",
     "output_type": "stream",
     "text": [
      "Requirement already satisfied: torch in /usr/local/lib/python3.10/dist-packages (2.5.1+cu121)\n",
      "Requirement already satisfied: torchvision in /usr/local/lib/python3.10/dist-packages (0.20.1+cu121)\n",
      "Requirement already satisfied: torchaudio in /usr/local/lib/python3.10/dist-packages (2.5.1+cu121)\n",
      "Collecting torch-geometric\n",
      "  Downloading torch_geometric-2.6.1-py3-none-any.whl.metadata (63 kB)\n",
      "\u001b[2K     \u001b[90m━━━━━━━━━━━━━━━━━━━━━━━━━━━━━━━━━━━━━━━━\u001b[0m \u001b[32m63.1/63.1 kB\u001b[0m \u001b[31m2.1 MB/s\u001b[0m eta \u001b[36m0:00:00\u001b[0m\n",
      "\u001b[?25hRequirement already satisfied: pandas in /usr/local/lib/python3.10/dist-packages (2.2.3)\n",
      "Requirement already satisfied: numpy in /usr/local/lib/python3.10/dist-packages (1.26.4)\n",
      "Collecting rdkit\n",
      "  Downloading rdkit-2024.9.6-cp310-cp310-manylinux_2_28_x86_64.whl.metadata (4.0 kB)\n",
      "Requirement already satisfied: scikit-learn in /usr/local/lib/python3.10/dist-packages (1.2.2)\n",
      "Requirement already satisfied: tqdm in /usr/local/lib/python3.10/dist-packages (4.67.1)\n",
      "Requirement already satisfied: optuna in /usr/local/lib/python3.10/dist-packages (4.2.1)\n",
      "Collecting torch_optimizer\n",
      "  Downloading torch_optimizer-0.3.0-py3-none-any.whl.metadata (55 kB)\n",
      "\u001b[2K     \u001b[90m━━━━━━━━━━━━━━━━━━━━━━━━━━━━━━━━━━━━━━━━\u001b[0m \u001b[32m55.9/55.9 kB\u001b[0m \u001b[31m2.7 MB/s\u001b[0m eta \u001b[36m0:00:00\u001b[0m\n",
      "\u001b[?25hRequirement already satisfied: filelock in /usr/local/lib/python3.10/dist-packages (from torch) (3.17.0)\n",
      "Requirement already satisfied: typing-extensions>=4.8.0 in /usr/local/lib/python3.10/dist-packages (from torch) (4.12.2)\n",
      "Requirement already satisfied: networkx in /usr/local/lib/python3.10/dist-packages (from torch) (3.4.2)\n",
      "Requirement already satisfied: jinja2 in /usr/local/lib/python3.10/dist-packages (from torch) (3.1.4)\n",
      "Requirement already satisfied: fsspec in /usr/local/lib/python3.10/dist-packages (from torch) (2024.12.0)\n",
      "Requirement already satisfied: sympy==1.13.1 in /usr/local/lib/python3.10/dist-packages (from torch) (1.13.1)\n",
      "Requirement already satisfied: mpmath<1.4,>=1.1.0 in /usr/local/lib/python3.10/dist-packages (from sympy==1.13.1->torch) (1.3.0)\n",
      "Requirement already satisfied: pillow!=8.3.*,>=5.3.0 in /usr/local/lib/python3.10/dist-packages (from torchvision) (11.0.0)\n",
      "Requirement already satisfied: aiohttp in /usr/local/lib/python3.10/dist-packages (from torch-geometric) (3.11.12)\n",
      "Requirement already satisfied: psutil>=5.8.0 in /usr/local/lib/python3.10/dist-packages (from torch-geometric) (5.9.5)\n",
      "Requirement already satisfied: pyparsing in /usr/local/lib/python3.10/dist-packages (from torch-geometric) (3.2.0)\n",
      "Requirement already satisfied: requests in /usr/local/lib/python3.10/dist-packages (from torch-geometric) (2.32.3)\n",
      "Requirement already satisfied: python-dateutil>=2.8.2 in /usr/local/lib/python3.10/dist-packages (from pandas) (2.9.0.post0)\n",
      "Requirement already satisfied: pytz>=2020.1 in /usr/local/lib/python3.10/dist-packages (from pandas) (2025.1)\n",
      "Requirement already satisfied: tzdata>=2022.7 in /usr/local/lib/python3.10/dist-packages (from pandas) (2025.1)\n",
      "Requirement already satisfied: mkl_fft in /usr/local/lib/python3.10/dist-packages (from numpy) (1.3.8)\n",
      "Requirement already satisfied: mkl_random in /usr/local/lib/python3.10/dist-packages (from numpy) (1.2.4)\n",
      "Requirement already satisfied: mkl_umath in /usr/local/lib/python3.10/dist-packages (from numpy) (0.1.1)\n",
      "Requirement already satisfied: mkl in /usr/local/lib/python3.10/dist-packages (from numpy) (2025.0.1)\n",
      "Requirement already satisfied: tbb4py in /usr/local/lib/python3.10/dist-packages (from numpy) (2022.0.0)\n",
      "Requirement already satisfied: mkl-service in /usr/local/lib/python3.10/dist-packages (from numpy) (2.4.1)\n",
      "Requirement already satisfied: scipy>=1.3.2 in /usr/local/lib/python3.10/dist-packages (from scikit-learn) (1.13.1)\n",
      "Requirement already satisfied: joblib>=1.1.1 in /usr/local/lib/python3.10/dist-packages (from scikit-learn) (1.4.2)\n",
      "Requirement already satisfied: threadpoolctl>=2.0.0 in /usr/local/lib/python3.10/dist-packages (from scikit-learn) (3.5.0)\n",
      "Requirement already satisfied: alembic>=1.5.0 in /usr/local/lib/python3.10/dist-packages (from optuna) (1.14.1)\n",
      "Requirement already satisfied: colorlog in /usr/local/lib/python3.10/dist-packages (from optuna) (6.9.0)\n",
      "Requirement already satisfied: packaging>=20.0 in /usr/local/lib/python3.10/dist-packages (from optuna) (24.2)\n",
      "Requirement already satisfied: sqlalchemy>=1.4.2 in /usr/local/lib/python3.10/dist-packages (from optuna) (2.0.36)\n",
      "Requirement already satisfied: PyYAML in /usr/local/lib/python3.10/dist-packages (from optuna) (6.0.2)\n",
      "Collecting pytorch-ranger>=0.1.1 (from torch_optimizer)\n",
      "  Downloading pytorch_ranger-0.1.1-py3-none-any.whl.metadata (509 bytes)\n",
      "Requirement already satisfied: Mako in /usr/local/lib/python3.10/dist-packages (from alembic>=1.5.0->optuna) (1.3.9)\n",
      "Requirement already satisfied: six>=1.5 in /usr/local/lib/python3.10/dist-packages (from python-dateutil>=2.8.2->pandas) (1.17.0)\n",
      "Requirement already satisfied: greenlet!=0.4.17 in /usr/local/lib/python3.10/dist-packages (from sqlalchemy>=1.4.2->optuna) (3.1.1)\n",
      "Requirement already satisfied: aiohappyeyeballs>=2.3.0 in /usr/local/lib/python3.10/dist-packages (from aiohttp->torch-geometric) (2.4.6)\n",
      "Requirement already satisfied: aiosignal>=1.1.2 in /usr/local/lib/python3.10/dist-packages (from aiohttp->torch-geometric) (1.3.2)\n",
      "Requirement already satisfied: async-timeout<6.0,>=4.0 in /usr/local/lib/python3.10/dist-packages (from aiohttp->torch-geometric) (5.0.1)\n",
      "Requirement already satisfied: attrs>=17.3.0 in /usr/local/lib/python3.10/dist-packages (from aiohttp->torch-geometric) (25.1.0)\n",
      "Requirement already satisfied: frozenlist>=1.1.1 in /usr/local/lib/python3.10/dist-packages (from aiohttp->torch-geometric) (1.5.0)\n",
      "Requirement already satisfied: multidict<7.0,>=4.5 in /usr/local/lib/python3.10/dist-packages (from aiohttp->torch-geometric) (6.1.0)\n",
      "Requirement already satisfied: propcache>=0.2.0 in /usr/local/lib/python3.10/dist-packages (from aiohttp->torch-geometric) (0.2.1)\n",
      "Requirement already satisfied: yarl<2.0,>=1.17.0 in /usr/local/lib/python3.10/dist-packages (from aiohttp->torch-geometric) (1.18.3)\n",
      "Requirement already satisfied: MarkupSafe>=2.0 in /usr/local/lib/python3.10/dist-packages (from jinja2->torch) (3.0.2)\n",
      "Requirement already satisfied: intel-openmp>=2024 in /usr/local/lib/python3.10/dist-packages (from mkl->numpy) (2024.2.0)\n",
      "Requirement already satisfied: tbb==2022.* in /usr/local/lib/python3.10/dist-packages (from mkl->numpy) (2022.0.0)\n",
      "Requirement already satisfied: tcmlib==1.* in /usr/local/lib/python3.10/dist-packages (from tbb==2022.*->mkl->numpy) (1.2.0)\n",
      "Requirement already satisfied: intel-cmplr-lib-rt in /usr/local/lib/python3.10/dist-packages (from mkl_umath->numpy) (2024.2.0)\n",
      "Requirement already satisfied: charset-normalizer<4,>=2 in /usr/local/lib/python3.10/dist-packages (from requests->torch-geometric) (3.4.1)\n",
      "Requirement already satisfied: idna<4,>=2.5 in /usr/local/lib/python3.10/dist-packages (from requests->torch-geometric) (3.10)\n",
      "Requirement already satisfied: urllib3<3,>=1.21.1 in /usr/local/lib/python3.10/dist-packages (from requests->torch-geometric) (2.3.0)\n",
      "Requirement already satisfied: certifi>=2017.4.17 in /usr/local/lib/python3.10/dist-packages (from requests->torch-geometric) (2025.1.31)\n",
      "Requirement already satisfied: intel-cmplr-lib-ur==2024.2.0 in /usr/local/lib/python3.10/dist-packages (from intel-openmp>=2024->mkl->numpy) (2024.2.0)\n",
      "Downloading torch_geometric-2.6.1-py3-none-any.whl (1.1 MB)\n",
      "\u001b[2K   \u001b[90m━━━━━━━━━━━━━━━━━━━━━━━━━━━━━━━━━━━━━━━━\u001b[0m \u001b[32m1.1/1.1 MB\u001b[0m \u001b[31m20.3 MB/s\u001b[0m eta \u001b[36m0:00:00\u001b[0ma \u001b[36m0:00:01\u001b[0m\n",
      "\u001b[?25hDownloading rdkit-2024.9.6-cp310-cp310-manylinux_2_28_x86_64.whl (34.3 MB)\n",
      "\u001b[2K   \u001b[90m━━━━━━━━━━━━━━━━━━━━━━━━━━━━━━━━━━━━━━━━\u001b[0m \u001b[32m34.3/34.3 MB\u001b[0m \u001b[31m50.9 MB/s\u001b[0m eta \u001b[36m0:00:00\u001b[0m:00:01\u001b[0m00:01\u001b[0m\n",
      "\u001b[?25hDownloading torch_optimizer-0.3.0-py3-none-any.whl (61 kB)\n",
      "\u001b[2K   \u001b[90m━━━━━━━━━━━━━━━━━━━━━━━━━━━━━━━━━━━━━━━━\u001b[0m \u001b[32m61.9/61.9 kB\u001b[0m \u001b[31m3.3 MB/s\u001b[0m eta \u001b[36m0:00:00\u001b[0m\n",
      "\u001b[?25hDownloading pytorch_ranger-0.1.1-py3-none-any.whl (14 kB)\n",
      "Installing collected packages: pytorch-ranger, torch_optimizer, torch-geometric, rdkit\n",
      "Successfully installed pytorch-ranger-0.1.1 rdkit-2024.9.6 torch-geometric-2.6.1 torch_optimizer-0.3.0\n"
     ]
    }
   ],
   "source": [
    "!pip install torch torchvision torchaudio torch-geometric pandas numpy rdkit scikit-learn tqdm optuna torch_optimizer"
   ]
  },
  {
   "cell_type": "code",
   "execution_count": null,
   "metadata": {
    "execution": {
     "iopub.execute_input": "2025-04-17T16:19:52.134310Z",
     "iopub.status.busy": "2025-04-17T16:19:52.134086Z",
     "iopub.status.idle": "2025-04-17T16:20:04.401896Z",
     "shell.execute_reply": "2025-04-17T16:20:04.401202Z",
     "shell.execute_reply.started": "2025-04-17T16:19:52.134288Z"
    },
    "trusted": true
   },
   "outputs": [],
   "source": [
    "import os\n",
    "import random\n",
    "import numpy as np\n",
    "import pandas as pd\n",
    "from tqdm.notebook import tqdm\n",
    "\n",
    "from rdkit import Chem, RDLogger\n",
    "from rdkit.Chem import (\n",
    "    AllChem, \n",
    "    Descriptors, \n",
    "    rdMolDescriptors, \n",
    "    Lipinski, \n",
    "    MolFromSmiles\n",
    ")\n",
    "from rdkit.Chem import rdFingerprintGenerator as fp\n",
    "from rdkit.ML.Descriptors.MoleculeDescriptors import MolecularDescriptorCalculator\n",
    "\n",
    "import torch\n",
    "import torch.nn as nn\n",
    "import torch.nn.functional as F\n",
    "from torch import optim\n",
    "from torch.optim import AdamW\n",
    "from torch.optim.lr_scheduler import OneCycleLR, ReduceLROnPlateau\n",
    "\n",
    "import torch_geometric\n",
    "from torch_geometric.data import Data, DataLoader\n",
    "from torch_geometric.nn import GCNConv, MessagePassing\n",
    "from torch_geometric.utils import degree\n",
    "\n",
    "from sklearn.metrics import (\n",
    "    mean_absolute_error, \n",
    "    mean_squared_error\n",
    ")\n",
    "from sklearn.model_selection import train_test_split"
   ]
  },
  {
   "cell_type": "code",
   "execution_count": 6,
   "metadata": {
    "execution": {
     "iopub.execute_input": "2025-04-17T16:20:04.404097Z",
     "iopub.status.busy": "2025-04-17T16:20:04.403542Z",
     "iopub.status.idle": "2025-04-17T16:20:04.490033Z",
     "shell.execute_reply": "2025-04-17T16:20:04.489022Z",
     "shell.execute_reply.started": "2025-04-17T16:20:04.404064Z"
    },
    "trusted": true
   },
   "outputs": [],
   "source": [
    "train_data = pd.read_csv('/kaggle/input/sibur-happiness/silly_aug.csv')\n",
    "test_data = pd.read_csv('/kaggle/input/sibur119cava80/sibur_element_119_final_test_data80.csv')"
   ]
  },
  {
   "cell_type": "code",
   "execution_count": null,
   "metadata": {
    "execution": {
     "iopub.execute_input": "2025-04-17T16:20:04.491715Z",
     "iopub.status.busy": "2025-04-17T16:20:04.491448Z",
     "iopub.status.idle": "2025-04-17T16:20:22.643014Z",
     "shell.execute_reply": "2025-04-17T16:20:22.642066Z",
     "shell.execute_reply.started": "2025-04-17T16:20:04.491693Z"
    },
    "trusted": true
   },
   "outputs": [
    {
     "data": {
      "application/vnd.jupyter.widget-view+json": {
       "model_id": "95ba6006d88944d29028773d3ee81f9e",
       "version_major": 2,
       "version_minor": 0
      },
      "text/plain": [
       "  0%|          | 0/28231 [00:00<?, ?it/s]"
      ]
     },
     "metadata": {},
     "output_type": "display_data"
    },
    {
     "data": {
      "application/vnd.jupyter.widget-view+json": {
       "model_id": "8d7346f82f31488486e6076d4aae30de",
       "version_major": 2,
       "version_minor": 0
      },
      "text/plain": [
       "  0%|          | 0/2630 [00:00<?, ?it/s]"
      ]
     },
     "metadata": {},
     "output_type": "display_data"
    },
    {
     "name": "stdout",
     "output_type": "stream",
     "text": [
      "Processed 28231/28231 train molecules\n",
      "Processed 2630/2630 test molecules\n"
     ]
    }
   ],
   "source": [
    "from rdkit import Chem\n",
    "from rdkit.Chem import rdmolops\n",
    "import torch\n",
    "from torch_geometric.data import Data\n",
    "from tqdm.notebook import tqdm\n",
    "\n",
    "def smiles_to_graph(smiles, logp=None):\n",
    "    \"\"\"Convert SMILES to molecular graph with error handling\"\"\"\n",
    "    mol = Chem.MolFromSmiles(smiles)\n",
    "    \n",
    "    if mol is None:\n",
    "        print(f\"Warning: Could not parse SMILES: {smiles}\")\n",
    "        return None\n",
    "    \n",
    "    try:\n",
    "        Chem.SanitizeMol(mol)\n",
    "    except:\n",
    "        print(f\"Warning: Sanitization failed for SMILES: {smiles}\")\n",
    "        return None\n",
    "    \n",
    "    atom_features_list = []\n",
    "    edge_index = []\n",
    "    edge_attr_list = []\n",
    "\n",
    "    try:\n",
    "        for bond in mol.GetBonds():\n",
    "            i = bond.GetBeginAtomIdx()\n",
    "            j = bond.GetEndAtomIdx()\n",
    "            \n",
    "            edge_index.append((i, j))\n",
    "            edge_index.append((j, i))\n",
    "            \n",
    "            bond_features = [\n",
    "                float(bond.GetBondTypeAsDouble()),\n",
    "                float(bond.GetIsConjugated()),\n",
    "                float(bond.GetIsAromatic()),\n",
    "                float(bond.IsInRing()),\n",
    "            ]\n",
    "            \n",
    "            edge_attr_list.append(bond_features)\n",
    "            edge_attr_list.append(bond_features)\n",
    "\n",
    "        for atom in mol.GetAtoms():\n",
    "            atom_features_list.append([\n",
    "                float(atom.GetAtomicNum()),\n",
    "                float(atom.GetDegree()),\n",
    "                float(atom.GetFormalCharge()),\n",
    "                float(atom.GetNumRadicalElectrons()),\n",
    "                float(atom.GetHybridization()),\n",
    "                float(atom.GetIsAromatic()),\n",
    "                float(atom.GetTotalNumHs()),\n",
    "                float(atom.GetMass() * 0.01)\n",
    "            ])\n",
    "        \n",
    "        edge_index = torch.tensor(edge_index, dtype=torch.long).t().contiguous()\n",
    "        edge_attr = torch.tensor(edge_attr_list, dtype=torch.float)\n",
    "        x = torch.tensor(atom_features_list, dtype=torch.float)\n",
    "        \n",
    "        if logp is not None:\n",
    "            return Data(x=x, edge_index=edge_index, edge_attr=edge_attr, y=torch.tensor([logp], dtype=torch.float))\n",
    "        return Data(x=x, edge_index=edge_index, edge_attr=edge_attr)\n",
    "    \n",
    "    except Exception as e:\n",
    "        print(f\"Error processing SMILES {smiles}: {str(e)}\")\n",
    "        return None\n",
    "\n",
    "train_graphs = []\n",
    "for s, logp in tqdm(zip(train_data['SMILES'], train_data['LogP']), total=len(train_data)):\n",
    "    graph = smiles_to_graph(s, logp)\n",
    "    if graph is not None:\n",
    "        train_graphs.append(graph)\n",
    "\n",
    "test_graphs = []\n",
    "for s in tqdm(test_data['SMILES'], total=len(test_data)):\n",
    "    graph = smiles_to_graph(s)\n",
    "    if graph is not None:\n",
    "        test_graphs.append(graph)\n",
    "\n",
    "print(f\"Processed {len(train_graphs)}/{len(train_data)} train molecules\")\n",
    "print(f\"Processed {len(test_graphs)}/{len(test_data)} test molecules\")"
   ]
  },
  {
   "cell_type": "code",
   "execution_count": 8,
   "metadata": {
    "execution": {
     "iopub.execute_input": "2025-04-17T16:20:22.644279Z",
     "iopub.status.busy": "2025-04-17T16:20:22.643948Z",
     "iopub.status.idle": "2025-04-17T16:20:22.655864Z",
     "shell.execute_reply": "2025-04-17T16:20:22.655205Z",
     "shell.execute_reply.started": "2025-04-17T16:20:22.644254Z"
    },
    "trusted": true
   },
   "outputs": [],
   "source": [
    "train_graphs, val_graphs = train_test_split(train_graphs, test_size=0.3, random_state=42)"
   ]
  },
  {
   "cell_type": "code",
   "execution_count": 9,
   "metadata": {
    "execution": {
     "iopub.execute_input": "2025-04-17T16:20:22.656906Z",
     "iopub.status.busy": "2025-04-17T16:20:22.656653Z",
     "iopub.status.idle": "2025-04-17T16:20:23.050564Z",
     "shell.execute_reply": "2025-04-17T16:20:23.049609Z",
     "shell.execute_reply.started": "2025-04-17T16:20:22.656885Z"
    },
    "trusted": true
   },
   "outputs": [
    {
     "name": "stderr",
     "output_type": "stream",
     "text": [
      "/usr/local/lib/python3.10/dist-packages/torch_geometric/deprecation.py:26: UserWarning: 'data.DataLoader' is deprecated, use 'loader.DataLoader' instead\n",
      "  warnings.warn(out)\n"
     ]
    }
   ],
   "source": [
    "batch_size = 64\n",
    "epochs = 200\n",
    "train_loader = DataLoader(train_graphs, batch_size=batch_size, shuffle=True)\n",
    "test_loader = DataLoader(test_graphs, batch_size=batch_size, shuffle=False)\n",
    "val_loader = DataLoader(val_graphs, batch_size=batch_size, shuffle=False)"
   ]
  },
  {
   "cell_type": "code",
   "execution_count": 10,
   "metadata": {
    "execution": {
     "iopub.execute_input": "2025-04-17T16:20:23.051584Z",
     "iopub.status.busy": "2025-04-17T16:20:23.051354Z",
     "iopub.status.idle": "2025-04-17T16:20:23.402018Z",
     "shell.execute_reply": "2025-04-17T16:20:23.401291Z",
     "shell.execute_reply.started": "2025-04-17T16:20:23.051565Z"
    },
    "trusted": true
   },
   "outputs": [],
   "source": [
    "epochs = 50\n",
    "device = torch.device(\"cuda\" if torch.cuda.is_available() else \"cpu\")\n",
    "class DMPNNLayer(MessagePassing):\n",
    "    def __init__(self, hidden_size, edge_feat_dim):\n",
    "        super().__init__(aggr='add')\n",
    "        self.edge_mlp = nn.Sequential(\n",
    "            nn.Linear(hidden_size + edge_feat_dim, hidden_size),\n",
    "            nn.ReLU()\n",
    "        )\n",
    "        self.node_mlp = nn.Sequential(\n",
    "            nn.Linear(hidden_size * 2, hidden_size),\n",
    "            nn.ReLU()\n",
    "        )\n",
    "\n",
    "    def forward(self, x, edge_index, edge_attr):\n",
    "        return self.propagate(edge_index, x=x, edge_attr=edge_attr)\n",
    "\n",
    "    def message(self, x_i, x_j, edge_attr):\n",
    "        return self.edge_mlp(torch.cat([x_j, edge_attr], dim=-1))\n",
    "\n",
    "    def update(self, aggr_out, x):\n",
    "        return self.node_mlp(torch.cat([x, aggr_out], dim=-1))\n",
    "\n",
    "class DMPNNModel(nn.Module):\n",
    "    def __init__(self, input_size=8, hidden_size=128, num_layers=6, edge_feat_dim=4):\n",
    "        super().__init__()\n",
    "        self.initial = nn.Sequential(\n",
    "            nn.Linear(input_size, hidden_size),\n",
    "            nn.BatchNorm1d(hidden_size),\n",
    "            nn.ReLU()\n",
    "        )\n",
    "        self.layers = nn.ModuleList([DMPNNLayer(hidden_size, edge_feat_dim) for _ in range(num_layers)])\n",
    "        self.bn_layers = nn.ModuleList([nn.BatchNorm1d(hidden_size) for _ in range(num_layers)])\n",
    "        self.dropout = nn.Dropout(0.5)\n",
    "        self.fc = nn.Sequential(\n",
    "            nn.Linear(hidden_size, hidden_size//2),\n",
    "            nn.ReLU(),\n",
    "            nn.Linear(hidden_size//2, 1)\n",
    "        )\n",
    "\n",
    "    def forward(self, data):\n",
    "        x, edge_index, batch = data.x, data.edge_index, data.batch\n",
    "        if x.dim() == 1:\n",
    "            x = x.unsqueeze(-1)\n",
    "        \n",
    "        x = self.initial(x)\n",
    "        \n",
    "        edge_attr = data.edge_attr if hasattr(data, 'edge_attr') else None\n",
    "\n",
    "        for i, (layer, bn) in enumerate(zip(self.layers, self.bn_layers)):\n",
    "            x = layer(x, edge_index, edge_attr)  # теперь передаём edge_attr\n",
    "            x = bn(x)\n",
    "            x = self.dropout(x)\n",
    "            \n",
    "        x = global_mean_pool(x, batch)\n",
    "        return self.fc(x).squeeze(-1)\n",
    "\n",
    "def train(model, loader, optimizer, loss_fn):\n",
    "    model.train()\n",
    "    total_loss = 0\n",
    "    for batch in tqdm(loader, desc='Training'):\n",
    "        batch = batch.to(device)\n",
    "        optimizer.zero_grad()\n",
    "        pred = model(batch)\n",
    "        loss = loss_fn(pred, batch.y)\n",
    "        loss.backward()\n",
    "        optimizer.step()\n",
    "        total_loss += loss.item() * batch.num_graphs\n",
    "    return total_loss / len(loader.dataset)\n",
    "\n",
    "\n",
    "def evaluate(model, loader):\n",
    "    model.eval()\n",
    "    preds, targets = [], []\n",
    "    with torch.no_grad():\n",
    "        for batch in loader:\n",
    "            batch = batch.to(device)\n",
    "            pred = model(batch)\n",
    "            preds.append(pred.cpu().numpy())\n",
    "            targets.append(batch.y.cpu().numpy())\n",
    "    preds = np.concatenate(preds)\n",
    "    targets = np.concatenate(targets)\n",
    "    rmse = mean_squared_error(targets, preds, squared=False)\n",
    "    mae = mean_absolute_error(targets, preds)\n",
    "    return rmse, mae\n",
    "\n",
    "\n",
    "device = torch.device(\"cuda\" if torch.cuda.is_available() else \"cpu\")\n",
    "model = DMPNNModel().to(device)\n",
    "optimizer = AdamW(model.parameters(), lr=1e-3, weight_decay=1e-6)\n",
    "scheduler = OneCycleLR(optimizer, max_lr=2e-3, \n",
    "                      steps_per_epoch=len(train_loader), \n",
    "                      epochs=epochs)\n",
    "loss_fn = nn.MSELoss()"
   ]
  },
  {
   "cell_type": "code",
   "execution_count": null,
   "metadata": {
    "execution": {
     "iopub.execute_input": "2025-04-17T16:32:52.148512Z",
     "iopub.status.busy": "2025-04-17T16:32:52.148216Z",
     "iopub.status.idle": "2025-04-17T16:32:52.298142Z",
     "shell.execute_reply": "2025-04-17T16:32:52.296754Z",
     "shell.execute_reply.started": "2025-04-17T16:32:52.148487Z"
    },
    "trusted": true
   },
   "outputs": [
    {
     "ename": "AttributeError",
     "evalue": "'MLPRegressor' object has no attribute 'train'",
     "output_type": "error",
     "traceback": [
      "\u001b[0;31m---------------------------------------------------------------------------\u001b[0m",
      "\u001b[0;31mAttributeError\u001b[0m                            Traceback (most recent call last)",
      "\u001b[0;32m<ipython-input-18-45d627b9a993>\u001b[0m in \u001b[0;36m<cell line: 7>\u001b[0;34m()\u001b[0m\n\u001b[1;32m      6\u001b[0m \u001b[0;34m\u001b[0m\u001b[0m\n\u001b[1;32m      7\u001b[0m \u001b[0;32mfor\u001b[0m \u001b[0mepoch\u001b[0m \u001b[0;32min\u001b[0m \u001b[0mrange\u001b[0m\u001b[0;34m(\u001b[0m\u001b[0;36m1\u001b[0m\u001b[0;34m,\u001b[0m \u001b[0;36m100\u001b[0m \u001b[0;34m+\u001b[0m \u001b[0;36m1\u001b[0m\u001b[0;34m)\u001b[0m\u001b[0;34m:\u001b[0m\u001b[0;34m\u001b[0m\u001b[0;34m\u001b[0m\u001b[0m\n\u001b[0;32m----> 8\u001b[0;31m     \u001b[0mtrain_loss\u001b[0m \u001b[0;34m=\u001b[0m \u001b[0mtrain\u001b[0m\u001b[0;34m(\u001b[0m\u001b[0mmodel\u001b[0m\u001b[0;34m,\u001b[0m \u001b[0mtrain_loader\u001b[0m\u001b[0;34m,\u001b[0m \u001b[0moptimizer\u001b[0m\u001b[0;34m,\u001b[0m \u001b[0mloss_fn\u001b[0m\u001b[0;34m)\u001b[0m\u001b[0;34m\u001b[0m\u001b[0;34m\u001b[0m\u001b[0m\n\u001b[0m\u001b[1;32m      9\u001b[0m     \u001b[0mval_rmse\u001b[0m\u001b[0;34m,\u001b[0m \u001b[0mval_mae\u001b[0m \u001b[0;34m=\u001b[0m \u001b[0mevaluate\u001b[0m\u001b[0;34m(\u001b[0m\u001b[0mmodel\u001b[0m\u001b[0;34m,\u001b[0m \u001b[0mval_loader\u001b[0m\u001b[0;34m)\u001b[0m\u001b[0;34m\u001b[0m\u001b[0;34m\u001b[0m\u001b[0m\n\u001b[1;32m     10\u001b[0m     \u001b[0mscheduler\u001b[0m\u001b[0;34m.\u001b[0m\u001b[0mstep\u001b[0m\u001b[0;34m(\u001b[0m\u001b[0;34m)\u001b[0m\u001b[0;34m\u001b[0m\u001b[0;34m\u001b[0m\u001b[0m\n",
      "\u001b[0;32m<ipython-input-10-80bfb0aaa8d6>\u001b[0m in \u001b[0;36mtrain\u001b[0;34m(model, loader, optimizer, loss_fn)\u001b[0m\n\u001b[1;32m     57\u001b[0m \u001b[0;34m\u001b[0m\u001b[0m\n\u001b[1;32m     58\u001b[0m \u001b[0;32mdef\u001b[0m \u001b[0mtrain\u001b[0m\u001b[0;34m(\u001b[0m\u001b[0mmodel\u001b[0m\u001b[0;34m,\u001b[0m \u001b[0mloader\u001b[0m\u001b[0;34m,\u001b[0m \u001b[0moptimizer\u001b[0m\u001b[0;34m,\u001b[0m \u001b[0mloss_fn\u001b[0m\u001b[0;34m)\u001b[0m\u001b[0;34m:\u001b[0m\u001b[0;34m\u001b[0m\u001b[0;34m\u001b[0m\u001b[0m\n\u001b[0;32m---> 59\u001b[0;31m     \u001b[0mmodel\u001b[0m\u001b[0;34m.\u001b[0m\u001b[0mtrain\u001b[0m\u001b[0;34m(\u001b[0m\u001b[0;34m)\u001b[0m\u001b[0;34m\u001b[0m\u001b[0;34m\u001b[0m\u001b[0m\n\u001b[0m\u001b[1;32m     60\u001b[0m     \u001b[0mtotal_loss\u001b[0m \u001b[0;34m=\u001b[0m \u001b[0;36m0\u001b[0m\u001b[0;34m\u001b[0m\u001b[0;34m\u001b[0m\u001b[0m\n\u001b[1;32m     61\u001b[0m     \u001b[0;32mfor\u001b[0m \u001b[0mbatch\u001b[0m \u001b[0;32min\u001b[0m \u001b[0mtqdm\u001b[0m\u001b[0;34m(\u001b[0m\u001b[0mloader\u001b[0m\u001b[0;34m,\u001b[0m \u001b[0mdesc\u001b[0m\u001b[0;34m=\u001b[0m\u001b[0;34m'Training'\u001b[0m\u001b[0;34m)\u001b[0m\u001b[0;34m:\u001b[0m\u001b[0;34m\u001b[0m\u001b[0;34m\u001b[0m\u001b[0m\n",
      "\u001b[0;31mAttributeError\u001b[0m: 'MLPRegressor' object has no attribute 'train'"
     ]
    }
   ],
   "source": [
    "from torch_geometric.nn import GCNConv, global_mean_pool\n",
    "import torch\n",
    "\n",
    "best_rmse = float('inf')\n",
    "best_model_weights = None\n",
    "\n",
    "for epoch in range(1, 100 + 1):\n",
    "    train_loss = train(model, train_loader, optimizer, loss_fn)\n",
    "    val_rmse, val_mae = evaluate(model, val_loader)\n",
    "    scheduler.step()\n",
    "    \n",
    "    # Сохраняем модель, если достигнуто лучшее качество\n",
    "    if val_rmse < best_rmse:\n",
    "        best_rmse = val_rmse\n",
    "        best_model_weights = model.state_dict().copy()  \n",
    "        torch.save({\n",
    "            'epoch': epoch,\n",
    "            'model_state_dict': model.state_dict(),\n",
    "            'optimizer_state_dict': optimizer.state_dict(),\n",
    "            'train_loss': train_loss,\n",
    "            'val_rmse': val_rmse,\n",
    "            'val_mae': val_mae,\n",
    "        }, 'best_model.pth')  \n",
    "    \n",
    "    print(f\"Epoch {epoch:03d} | Train Loss: {train_loss:.4f} | Val RMSE: {val_rmse:.4f} | MAE: {val_mae:.4f}\")\n",
    "    3\n",
    "model.load_state_dict(best_model_weights)"
   ]
  },
  {
   "cell_type": "code",
   "execution_count": 12,
   "metadata": {
    "execution": {
     "iopub.execute_input": "2025-04-17T16:32:31.133194Z",
     "iopub.status.busy": "2025-04-17T16:32:31.132822Z",
     "iopub.status.idle": "2025-04-17T16:32:32.084617Z",
     "shell.execute_reply": "2025-04-17T16:32:32.083537Z",
     "shell.execute_reply.started": "2025-04-17T16:32:31.133164Z"
    },
    "trusted": true
   },
   "outputs": [
    {
     "name": "stdout",
     "output_type": "stream",
     "text": [
      "(1.394733, 0.75540674)\n"
     ]
    }
   ],
   "source": [
    "model.load_state_dict(best_model_weights)\n",
    "print(evaluate(model, val_loader))"
   ]
  },
  {
   "cell_type": "code",
   "execution_count": 13,
   "metadata": {
    "execution": {
     "iopub.execute_input": "2025-04-17T16:32:35.377399Z",
     "iopub.status.busy": "2025-04-17T16:32:35.377083Z",
     "iopub.status.idle": "2025-04-17T16:32:35.431940Z",
     "shell.execute_reply": "2025-04-17T16:32:35.431064Z",
     "shell.execute_reply.started": "2025-04-17T16:32:35.377366Z"
    },
    "trusted": true
   },
   "outputs": [],
   "source": [
    "idd = pd.read_csv('/kaggle/input/sibur119cava80/sibur_element_119_final_test_data80.csv')"
   ]
  },
  {
   "cell_type": "code",
   "execution_count": null,
   "metadata": {
    "execution": {
     "iopub.execute_input": "2025-04-17T16:32:37.141070Z",
     "iopub.status.busy": "2025-04-17T16:32:37.140714Z",
     "iopub.status.idle": "2025-04-17T16:32:37.146095Z",
     "shell.execute_reply": "2025-04-17T16:32:37.145206Z",
     "shell.execute_reply.started": "2025-04-17T16:32:37.141033Z"
    },
    "trusted": true
   },
   "outputs": [],
   "source": [
    "def predict_and_save(model, test_graphs, idd, path):\n",
    "    model.eval()\n",
    "    preds = []\n",
    "    test_loader = DataLoader(test_graphs, batch_size=64)\n",
    "    \n",
    "    with torch.no_grad():\n",
    "        for batch in tqdm(test_loader, desc='Predicting LogP'):\n",
    "            batch = batch.to(device)\n",
    "            pred = model(batch)\n",
    "            preds.append(pred.cpu().numpy())\n",
    "    \n",
    "    preds = np.concatenate(preds)\n",
    "    \n",
    "    df = pd.DataFrame({\n",
    "        'LogP': preds\n",
    "    })\n",
    "    \n",
    "    df.to_csv(path, index=False)\n",
    "    print(f\"Predictions saved to {path}\")"
   ]
  },
  {
   "cell_type": "code",
   "execution_count": null,
   "metadata": {
    "execution": {
     "iopub.execute_input": "2025-04-17T16:32:39.026529Z",
     "iopub.status.busy": "2025-04-17T16:32:39.026250Z",
     "iopub.status.idle": "2025-04-17T16:32:39.401972Z",
     "shell.execute_reply": "2025-04-17T16:32:39.401256Z",
     "shell.execute_reply.started": "2025-04-17T16:32:39.026507Z"
    },
    "trusted": true
   },
   "outputs": [
    {
     "name": "stderr",
     "output_type": "stream",
     "text": [
      "/usr/local/lib/python3.10/dist-packages/torch_geometric/deprecation.py:26: UserWarning: 'data.DataLoader' is deprecated, use 'loader.DataLoader' instead\n",
      "  warnings.warn(out)\n"
     ]
    },
    {
     "data": {
      "application/vnd.jupyter.widget-view+json": {
       "model_id": "ee5ec1504c4e4e6aa64ef0c8139f6cc5",
       "version_major": 2,
       "version_minor": 0
      },
      "text/plain": [
       "Predicting LogP:   0%|          | 0/42 [00:00<?, ?it/s]"
      ]
     },
     "metadata": {},
     "output_type": "display_data"
    },
    {
     "name": "stdout",
     "output_type": "stream",
     "text": [
      "Predictions saved to submission_2.csv\n"
     ]
    }
   ],
   "source": [
    "predict_and_save(model, test_graphs, idd, \"submission_2.csv\")\n",
    "sub2 = pd.read_csv('submission_2.csv')"
   ]
  },
  {
   "cell_type": "code",
   "execution_count": null,
   "metadata": {
    "execution": {
     "iopub.execute_input": "2025-04-17T16:33:55.022314Z",
     "iopub.status.busy": "2025-04-17T16:33:55.021965Z",
     "iopub.status.idle": "2025-04-17T16:33:56.601182Z",
     "shell.execute_reply": "2025-04-17T16:33:56.600420Z",
     "shell.execute_reply.started": "2025-04-17T16:33:55.022289Z"
    },
    "trusted": true
   },
   "outputs": [
    {
     "name": "stdout",
     "output_type": "stream",
     "text": [
      "/kaggle/input/sibur-submission/final_sample_submission80 (5).csv\n",
      "/kaggle/input/sibur-submission/final_sample_submission80 (6).csv\n",
      "/kaggle/input/sibur-submission/subm_test_ann64-2.csv\n",
      "/kaggle/input/sibur-submission/aug_5model.csv\n",
      "/kaggle/input/sibur-submission/deepchem_logp_predictions (4) (1).csv\n",
      "/kaggle/input/sibur-submission/final_sample_submission802 (1).csv\n",
      "/kaggle/input/sibur-submission/deepchem_logp_predictions (3) (1).csv\n",
      "/kaggle/input/sibur-submission/submis.csv\n",
      "/kaggle/input/sibur-submission/final_sample_submission80 (9) (1).csv\n",
      "/kaggle/input/sibur-submission/final_sample_submission80 (8) (1).csv\n",
      "/kaggle/input/sibur-submission/submission (7) (1).csv\n"
     ]
    },
    {
     "data": {
      "image/png": "[encoded data removed]",
      "text/plain": [
       "<Figure size 1200x600 with 1 Axes>"
      ]
     },
     "metadata": {},
     "output_type": "display_data"
    },
    {
     "name": "stdout",
     "output_type": "stream",
     "text": [
      "Train R2: 1.000\n",
      "Test R2: 0.929\n",
      "test: Predicted RMSE 0.930 | True RMSE 0.80 | Error 0.130\n",
      "subm088: Predicted RMSE 0.884 | True RMSE 0.88 | Error 0.004\n",
      "subm081: Predicted RMSE 0.805 | True RMSE 0.81 | Error 0.005\n",
      "subm067: Predicted RMSE 0.670 | True RMSE 0.67 | Error 0.000\n",
      "subm080: Predicted RMSE 0.801 | True RMSE 0.80 | Error 0.001\n",
      "subm129: Predicted RMSE 1.290 | True RMSE 1.29 | Error 0.000\n",
      "subm086: Predicted RMSE 0.862 | True RMSE 0.86 | Error 0.002\n",
      "subm093: Predicted RMSE 0.930 | True RMSE 0.93 | Error 0.000\n",
      "subm095: Predicted RMSE 0.951 | True RMSE 0.95 | Error 0.001\n",
      "subm08999: Predicted RMSE 0.898 | True RMSE 0.90 | Error 0.002\n",
      "subm0895: Predicted RMSE 0.895 | True RMSE 0.90 | Error 0.001\n",
      "subm0931: Predicted RMSE 0.930 | True RMSE 0.93 | Error 0.001\n"
     ]
    }
   ],
   "source": [
    "import pandas as pd\n",
    "import numpy as np\n",
    "import matplotlib.pyplot as plt\n",
    "from sklearn.neural_network import MLPRegressor\n",
    "from sklearn.preprocessing import StandardScaler\n",
    "from sklearn.model_selection import train_test_split\n",
    "from sklearn.metrics import mean_squared_error, r2_score\n",
    "\n",
    "def load_submissions():\n",
    "    submissions = []\n",
    "    paths = [\n",
    "        '/kaggle/input/sibur-submission/final_sample_submission80 (5).csv',\n",
    "        '/kaggle/input/sibur-submission/final_sample_submission80 (6).csv',\n",
    "        '/kaggle/input/sibur-submission/subm_test_ann64-2.csv',\n",
    "        '/kaggle/input/sibur-submission/aug_5model.csv',\n",
    "        '/kaggle/input/sibur-submission/deepchem_logp_predictions (4) (1).csv',\n",
    "        '/kaggle/input/sibur-submission/final_sample_submission802 (1).csv',     #это просто загрузка данных, которые были у насЦ\n",
    "        '/kaggle/input/sibur-submission/deepchem_logp_predictions (3) (1).csv',\n",
    "        '/kaggle/input/sibur-submission/submis.csv',\n",
    "        '/kaggle/input/sibur-submission/final_sample_submission80 (9) (1).csv',\n",
    "        '/kaggle/input/sibur-submission/final_sample_submission80 (8) (1).csv',\n",
    "        '/kaggle/input/sibur-submission/submission (7) (1).csv'\n",
    "    ]\n",
    "    submissions.append(sub2['LogP'].values)\n",
    "    for path in paths:\n",
    "        df = pd.read_csv(path)\n",
    "        print(path)\n",
    "        submissions.append(df['LogP'].values)\n",
    "    return np.array(submissions)\n",
    "\n",
    "submissions = load_submissions()\n",
    "submission_names = [\"test\", \"subm088\",\"subm081\", \"subm067\", \"subm080\", \"subm129\", \"subm086\", \"subm093\", \"subm095\", \"subm08999\", \"subm0895\", \"subm0931\"]\n",
    "submission_values = np.array([0.8, 0.88, 0.81, 0.67, 0.80, 1.29, 0.86, 0.93, 0.95, 0.899882, 0.895315, 0.93088])  # RMSE значений\n",
    "\n",
    "plt.figure(figsize=(12, 6))\n",
    "for i, (name, preds) in enumerate(zip(submission_names, submissions)):\n",
    "    plt.hist(preds, bins=50, alpha=0.5, label=f\"{name} (RMSE={submission_values[i]:.2f})\")\n",
    "plt.xlabel(\"LogP predictions\")\n",
    "plt.ylabel(\"Frequency\")\n",
    "plt.title(\"Distribution of LogP Predictions\")\n",
    "plt.legend()\n",
    "plt.show()\n",
    "\n",
    "def extract_features(submission):\n",
    "    features = [\n",
    "        np.mean(submission),\n",
    "        np.std(submission),\n",
    "        np.min(submission),\n",
    "        np.max(submission),\n",
    "        np.median(submission),\n",
    "        np.percentile(submission, 25),\n",
    "        np.percentile(submission, 75),\n",
    "        np.sum(submission < 0),  # count of negative predictions\n",
    "        np.sum(submission > 1)   # count of predictions > 1\n",
    "    ]\n",
    "    return features\n",
    "\n",
    "X = np.array([extract_features(sub) for sub in submissions])\n",
    "\n",
    "scaler = StandardScaler()\n",
    "X_scaled = scaler.fit_transform(X)\n",
    "\n",
    "X_train, X_test, y_train, y_test = X_scaled[1:], X_scaled, submission_values[1:], submission_values\n",
    "\n",
    "model = MLPRegressor(\n",
    "    hidden_layer_sizes=(8,),  # 1 слой с 8 нейронами\n",
    "    activation='tanh',        # tanh работает лучше для регрессии\n",
    "    solver='lbfgs',          # лучше для маленьких датасетов\n",
    "    alpha=1e-4,\n",
    "    max_iter=500,\n",
    "    random_state=42,\n",
    "    early_stopping=False     # отключаем для малых данных\n",
    ")\n",
    "\n",
    "model.fit(X_train, y_train)\n",
    "\n",
    "train_pred = model.predict(X_train)\n",
    "test_pred = model.predict(X_test)\n",
    "\n",
    "print(f\"Train R2: {r2_score(y_train, train_pred):.3f}\")\n",
    "print(f\"Test R2: {r2_score(y_test, test_pred):.3f}\")\n",
    "\n",
    "for name, sub, true_rmse in zip(submission_names, submissions, submission_values):\n",
    "    features = extract_features(sub)\n",
    "    features_scaled = scaler.transform([features])\n",
    "    pred_rmse = model.predict(features_scaled)[0]\n",
    "    print(f\"{name}: Predicted RMSE {pred_rmse:.3f} | True RMSE {true_rmse:.2f} | Error {abs(pred_rmse-true_rmse):.3f}\")"
   ]
  },
  {
   "cell_type": "code",
   "execution_count": 52,
   "metadata": {
    "execution": {
     "iopub.execute_input": "2025-04-14T22:04:36.071752Z",
     "iopub.status.busy": "2025-04-14T22:04:36.071446Z",
     "iopub.status.idle": "2025-04-14T22:04:37.448090Z",
     "shell.execute_reply": "2025-04-14T22:04:37.447409Z",
     "shell.execute_reply.started": "2025-04-14T22:04:36.071730Z"
    },
    "trusted": true
   },
   "outputs": [],
   "source": [
    "test_data.to_csv('XGB_DC_DMPNN_test.csv', index=False)"
   ]
  }
 ],
 "metadata": {
  "kaggle": {
   "accelerator": "none",
   "dataSources": [
    {
     "datasetId": 7049966,
     "sourceId": 11407898,
     "sourceType": "datasetVersion"
    },
    {
     "datasetId": 7146064,
     "sourceId": 11426276,
     "sourceType": "datasetVersion"
    },
    {
     "datasetId": 7156586,
     "sourceId": 11439914,
     "sourceType": "datasetVersion"
    },
    {
     "datasetId": 7173880,
     "sourceId": 11450244,
     "sourceType": "datasetVersion"
    }
   ],
   "dockerImageVersionId": 30918,
   "isGpuEnabled": false,
   "isInternetEnabled": true,
   "language": "python",
   "sourceType": "notebook"
  },
  "kernelspec": {
   "display_name": "Python 3",
   "language": "python",
   "name": "python3"
  },
  "language_info": {
   "codemirror_mode": {
    "name": "ipython",
    "version": 3
   },
   "file_extension": ".py",
   "mimetype": "text/x-python",
   "name": "python",
   "nbconvert_exporter": "python",
   "pygments_lexer": "ipython3",
   "version": "3.10.12"
  }
 },
 "nbformat": 4,
 "nbformat_minor": 4
}
