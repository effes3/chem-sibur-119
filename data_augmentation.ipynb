{
 "cells": [
  {
   "cell_type": "code",
   "execution_count": 1,
   "metadata": {
    "_cell_guid": "b1076dfc-b9ad-4769-8c92-a6c4dae69d19",
    "_uuid": "8f2839f25d086af736a60e9eeb907d3b93b6e0e5",
    "execution": {
     "iopub.execute_input": "2025-04-05T10:12:20.516754Z",
     "iopub.status.busy": "2025-04-05T10:12:20.516458Z",
     "iopub.status.idle": "2025-04-05T10:12:23.946127Z",
     "shell.execute_reply": "2025-04-05T10:12:23.945038Z",
     "shell.execute_reply.started": "2025-04-05T10:12:20.516732Z"
    },
    "trusted": true
   },
   "outputs": [
    {
     "name": "stdout",
     "output_type": "stream",
     "text": [
      "Requirement already satisfied: scikit-learn in /usr/local/lib/python3.10/dist-packages (1.2.2)\n",
      "Requirement already satisfied: rdkit-pypi in /usr/local/lib/python3.10/dist-packages (2022.9.5)\n",
      "Requirement already satisfied: chython in /usr/local/lib/python3.10/dist-packages (2.3)\n",
      "Requirement already satisfied: pandas in /usr/local/lib/python3.10/dist-packages (2.2.3)\n",
      "Requirement already satisfied: numpy in /usr/local/lib/python3.10/dist-packages (1.26.4)\n",
      "Requirement already satisfied: torch in /usr/local/lib/python3.10/dist-packages (2.5.1+cu121)\n",
      "Requirement already satisfied: pytorch-lightning in /usr/local/lib/python3.10/dist-packages (2.5.0.post0)\n",
      "Requirement already satisfied: mordred in /usr/local/lib/python3.10/dist-packages (1.2.0)\n",
      "Requirement already satisfied: scipy>=1.3.2 in /usr/local/lib/python3.10/dist-packages (from scikit-learn) (1.13.1)\n",
      "Requirement already satisfied: joblib>=1.1.1 in /usr/local/lib/python3.10/dist-packages (from scikit-learn) (1.4.2)\n",
      "Requirement already satisfied: threadpoolctl>=2.0.0 in /usr/local/lib/python3.10/dist-packages (from scikit-learn) (3.5.0)\n",
      "Requirement already satisfied: Pillow in /usr/local/lib/python3.10/dist-packages (from rdkit-pypi) (11.0.0)\n",
      "Requirement already satisfied: cachedmethods>=0.1.4 in /usr/local/lib/python3.10/dist-packages (from chython) (0.1.4)\n",
      "Requirement already satisfied: lazy-object-proxy>=1.6 in /usr/local/lib/python3.10/dist-packages (from chython) (1.10.0)\n",
      "Requirement already satisfied: lxml>=4.1 in /usr/local/lib/python3.10/dist-packages (from chython) (5.3.0)\n",
      "Requirement already satisfied: py-mini-racer>=0.6.0 in /usr/local/lib/python3.10/dist-packages (from chython) (0.6.0)\n",
      "Requirement already satisfied: python-dateutil>=2.8.2 in /usr/local/lib/python3.10/dist-packages (from pandas) (2.9.0.post0)\n",
      "Requirement already satisfied: pytz>=2020.1 in /usr/local/lib/python3.10/dist-packages (from pandas) (2025.1)\n",
      "Requirement already satisfied: tzdata>=2022.7 in /usr/local/lib/python3.10/dist-packages (from pandas) (2025.1)\n",
      "Requirement already satisfied: mkl_fft in /usr/local/lib/python3.10/dist-packages (from numpy) (1.3.8)\n",
      "Requirement already satisfied: mkl_random in /usr/local/lib/python3.10/dist-packages (from numpy) (1.2.4)\n",
      "Requirement already satisfied: mkl_umath in /usr/local/lib/python3.10/dist-packages (from numpy) (0.1.1)\n",
      "Requirement already satisfied: mkl in /usr/local/lib/python3.10/dist-packages (from numpy) (2025.0.1)\n",
      "Requirement already satisfied: tbb4py in /usr/local/lib/python3.10/dist-packages (from numpy) (2022.0.0)\n",
      "Requirement already satisfied: mkl-service in /usr/local/lib/python3.10/dist-packages (from numpy) (2.4.1)\n",
      "Requirement already satisfied: filelock in /usr/local/lib/python3.10/dist-packages (from torch) (3.17.0)\n",
      "Requirement already satisfied: typing-extensions>=4.8.0 in /usr/local/lib/python3.10/dist-packages (from torch) (4.12.2)\n",
      "Requirement already satisfied: networkx in /usr/local/lib/python3.10/dist-packages (from torch) (2.8.8)\n",
      "Requirement already satisfied: jinja2 in /usr/local/lib/python3.10/dist-packages (from torch) (3.1.4)\n",
      "Requirement already satisfied: fsspec in /usr/local/lib/python3.10/dist-packages (from torch) (2024.12.0)\n",
      "Requirement already satisfied: sympy==1.13.1 in /usr/local/lib/python3.10/dist-packages (from torch) (1.13.1)\n",
      "Requirement already satisfied: mpmath<1.4,>=1.1.0 in /usr/local/lib/python3.10/dist-packages (from sympy==1.13.1->torch) (1.3.0)\n",
      "Requirement already satisfied: tqdm>=4.57.0 in /usr/local/lib/python3.10/dist-packages (from pytorch-lightning) (4.67.1)\n",
      "Requirement already satisfied: PyYAML>=5.4 in /usr/local/lib/python3.10/dist-packages (from pytorch-lightning) (6.0.2)\n",
      "Requirement already satisfied: torchmetrics>=0.7.0 in /usr/local/lib/python3.10/dist-packages (from pytorch-lightning) (1.6.1)\n",
      "Requirement already satisfied: packaging>=20.0 in /usr/local/lib/python3.10/dist-packages (from pytorch-lightning) (24.2)\n",
      "Requirement already satisfied: lightning-utilities>=0.10.0 in /usr/local/lib/python3.10/dist-packages (from pytorch-lightning) (0.12.0)\n",
      "Requirement already satisfied: six==1.* in /usr/local/lib/python3.10/dist-packages (from mordred) (1.17.0)\n",
      "Requirement already satisfied: aiohttp!=4.0.0a0,!=4.0.0a1 in /usr/local/lib/python3.10/dist-packages (from fsspec[http]>=2022.5.0->pytorch-lightning) (3.11.12)\n",
      "Requirement already satisfied: setuptools in /usr/local/lib/python3.10/dist-packages (from lightning-utilities>=0.10.0->pytorch-lightning) (75.1.0)\n",
      "Requirement already satisfied: MarkupSafe>=2.0 in /usr/local/lib/python3.10/dist-packages (from jinja2->torch) (3.0.2)\n",
      "Requirement already satisfied: intel-openmp>=2024 in /usr/local/lib/python3.10/dist-packages (from mkl->numpy) (2024.2.0)\n",
      "Requirement already satisfied: tbb==2022.* in /usr/local/lib/python3.10/dist-packages (from mkl->numpy) (2022.0.0)\n",
      "Requirement already satisfied: tcmlib==1.* in /usr/local/lib/python3.10/dist-packages (from tbb==2022.*->mkl->numpy) (1.2.0)\n",
      "Requirement already satisfied: intel-cmplr-lib-rt in /usr/local/lib/python3.10/dist-packages (from mkl_umath->numpy) (2024.2.0)\n",
      "Requirement already satisfied: aiohappyeyeballs>=2.3.0 in /usr/local/lib/python3.10/dist-packages (from aiohttp!=4.0.0a0,!=4.0.0a1->fsspec[http]>=2022.5.0->pytorch-lightning) (2.4.6)\n",
      "Requirement already satisfied: aiosignal>=1.1.2 in /usr/local/lib/python3.10/dist-packages (from aiohttp!=4.0.0a0,!=4.0.0a1->fsspec[http]>=2022.5.0->pytorch-lightning) (1.3.2)\n",
      "Requirement already satisfied: async-timeout<6.0,>=4.0 in /usr/local/lib/python3.10/dist-packages (from aiohttp!=4.0.0a0,!=4.0.0a1->fsspec[http]>=2022.5.0->pytorch-lightning) (5.0.1)\n",
      "Requirement already satisfied: attrs>=17.3.0 in /usr/local/lib/python3.10/dist-packages (from aiohttp!=4.0.0a0,!=4.0.0a1->fsspec[http]>=2022.5.0->pytorch-lightning) (25.1.0)\n",
      "Requirement already satisfied: frozenlist>=1.1.1 in /usr/local/lib/python3.10/dist-packages (from aiohttp!=4.0.0a0,!=4.0.0a1->fsspec[http]>=2022.5.0->pytorch-lightning) (1.5.0)\n",
      "Requirement already satisfied: multidict<7.0,>=4.5 in /usr/local/lib/python3.10/dist-packages (from aiohttp!=4.0.0a0,!=4.0.0a1->fsspec[http]>=2022.5.0->pytorch-lightning) (6.1.0)\n",
      "Requirement already satisfied: propcache>=0.2.0 in /usr/local/lib/python3.10/dist-packages (from aiohttp!=4.0.0a0,!=4.0.0a1->fsspec[http]>=2022.5.0->pytorch-lightning) (0.2.1)\n",
      "Requirement already satisfied: yarl<2.0,>=1.17.0 in /usr/local/lib/python3.10/dist-packages (from aiohttp!=4.0.0a0,!=4.0.0a1->fsspec[http]>=2022.5.0->pytorch-lightning) (1.18.3)\n",
      "Requirement already satisfied: intel-cmplr-lib-ur==2024.2.0 in /usr/local/lib/python3.10/dist-packages (from intel-openmp>=2024->mkl->numpy) (2024.2.0)\n",
      "Requirement already satisfied: idna>=2.0 in /usr/local/lib/python3.10/dist-packages (from yarl<2.0,>=1.17.0->aiohttp!=4.0.0a0,!=4.0.0a1->fsspec[http]>=2022.5.0->pytorch-lightning) (3.10)\n",
      "Note: you may need to restart the kernel to use updated packages.\n"
     ]
    }
   ],
   "source": [
    "pip install scikit-learn rdkit-pypi chython pandas numpy torch pytorch-lightning mordred"
   ]
  },
  {
   "cell_type": "code",
   "execution_count": 5,
   "metadata": {
    "execution": {
     "iopub.execute_input": "2025-04-05T10:20:57.083761Z",
     "iopub.status.busy": "2025-04-05T10:20:57.083419Z",
     "iopub.status.idle": "2025-04-05T10:20:57.092130Z",
     "shell.execute_reply": "2025-04-05T10:20:57.091439Z",
     "shell.execute_reply.started": "2025-04-05T10:20:57.083737Z"
    },
    "trusted": true
   },
   "outputs": [
    {
     "data": {
      "text/plain": [
       "3"
      ]
     },
     "execution_count": 5,
     "metadata": {},
     "output_type": "execute_result"
    }
   ],
   "source": [
    "from sklearn.preprocessing import FunctionTransformer, StandardScaler\n",
    "from sklearn.metrics import r2_score, mean_squared_error\n",
    "from typing import Any, List, Callable, Optional\n",
    "\n",
    "import matplotlib.pyplot as plt\n",
    "import seaborn as sns\n",
    "from copy import deepcopy\n",
    "from rdkit import Chem, RDLogger\n",
    "from rdkit.Chem import Descriptors, rdMolDescriptors, Lipinski, MolFromSmiles, rdFingerprintGenerator as fp\n",
    "from rdkit.Chem.MolStandardize import rdMolStandardize\n",
    "from rdkit.Chem.Draw import IPythonConsole\n",
    "RDLogger.DisableLog('rdApp.*')  # чтобы не выскакивали сообщения об ошибке\n",
    "\n",
    "from mordred import Calculator, descriptors\n",
    "IPythonConsole.ipython_useSVG = True  # set this to False if you want PNGs instead of SVGs\n",
    "\n",
    "\n",
    "from chython import smiles\n",
    "from collections import defaultdict\n",
    "from collections.abc import Iterable\n",
    "\n",
    "import pandas as pd\n",
    "import numpy as np\n",
    "\n",
    "import torch\n",
    "import torch.nn as nn\n",
    "import pytorch_lightning as pl\n",
    "\n",
    "from torch.utils.data import Dataset, DataLoader, TensorDataset\n",
    "\n",
    "import random\n",
    "import warnings\n",
    "import os\n",
    "import pickle\n",
    "\n",
    "warnings.filterwarnings(\"ignore\") \n",
    "nproc = os.cpu_count() - 1 \n",
    "nproc"
   ]
  },
  {
   "cell_type": "markdown",
   "metadata": {},
   "source": [
    "## Данные"
   ]
  },
  {
   "cell_type": "code",
   "execution_count": null,
   "metadata": {
    "execution": {
     "iopub.execute_input": "2025-04-05T10:21:00.136746Z",
     "iopub.status.busy": "2025-04-05T10:21:00.136461Z",
     "iopub.status.idle": "2025-04-05T10:21:00.167380Z",
     "shell.execute_reply": "2025-04-05T10:21:00.166486Z",
     "shell.execute_reply.started": "2025-04-05T10:21:00.136726Z"
    },
    "trusted": true
   },
   "outputs": [],
   "source": [
    "train_data = pd.read_csv('/kaggle/input/sibur119cava80/sibur_element_119_final_train_data80.csv') #change to yours\n",
    "test_data = pd.read_csv('/kaggle/input/sibur119cava80/sibur_element_119_final_test_data80.csv') #change to yours"
   ]
  },
  {
   "cell_type": "code",
   "execution_count": 7,
   "metadata": {
    "execution": {
     "iopub.execute_input": "2025-04-05T10:21:02.953896Z",
     "iopub.status.busy": "2025-04-05T10:21:02.953572Z",
     "iopub.status.idle": "2025-04-05T10:21:04.658136Z",
     "shell.execute_reply": "2025-04-05T10:21:04.657367Z",
     "shell.execute_reply.started": "2025-04-05T10:21:02.953869Z"
    },
    "trusted": true
   },
   "outputs": [],
   "source": [
    "def is_valid_smiles(s):\n",
    "  return isinstance(s, str) and s.strip() != \"\" and Chem.MolFromSmiles(s) is not None\n",
    "\n",
    "def filter_invalid_smiles(df):\n",
    "  return df[df['SMILES'].apply(is_valid_smiles)].reset_index(drop=True)\n",
    "\n",
    "train_data = filter_invalid_smiles(train_data)\n",
    "test_data = filter_invalid_smiles(test_data)"
   ]
  },
  {
   "cell_type": "code",
   "execution_count": 22,
   "metadata": {
    "execution": {
     "iopub.execute_input": "2025-04-05T10:07:20.988543Z",
     "iopub.status.busy": "2025-04-05T10:07:20.988256Z",
     "iopub.status.idle": "2025-04-05T10:07:31.932783Z",
     "shell.execute_reply": "2025-04-05T10:07:31.932125Z",
     "shell.execute_reply.started": "2025-04-05T10:07:20.988520Z"
    },
    "trusted": true
   },
   "outputs": [],
   "source": [
    "# Функция для мутации SMILES с проверкой на валидность молекулы\n",
    "def mutate_smiles(smiles):\n",
    "    mol = Chem.MolFromSmiles(smiles)\n",
    "    if mol is None or not mol.HasSubstructMatch(mol):  # Проверка на валидность молекулы\n",
    "        return None  # Возвращаем None, если молекула некорректна\n",
    "    \n",
    "    # Пример мутации: заменяем метильную группу на этильную (можно придумать другие)\n",
    "    mutated_smiles = Chem.MolToSmiles(mol)\n",
    "    mutated_smiles = mutated_smiles.replace('C', 'CC', 1)  # Пример замены, можно настроить\n",
    "    return mutated_smiles\n",
    "\n",
    "def mutate_smiles_3(smiles):\n",
    "    mol = Chem.MolFromSmiles(smiles)\n",
    "    if mol is None or not mol.HasSubstructMatch(mol):  # Проверка на валидность молекулы\n",
    "        return None  # Возвращаем None, если молекула некорректна\n",
    "    \n",
    "    # Пример мутации: заменяем метильную группу на этильную (можно придумать другие)\n",
    "    mutated_smiles = Chem.MolToSmiles(mol)\n",
    "    mutated_smiles = mutated_smiles.replace('OC', 'OCC', 1)  # Пример замены, можно настроить\n",
    "    return mutated_smiles\n",
    "\n",
    "# Функция для добавления шума в LogP\n",
    "def add_noise_logp(logp_value, noise_level=0.1):\n",
    "    return logp_value + random.uniform(-noise_level, noise_level)\n",
    "\n",
    "# Функция для аугментации данных в DataFrame с проверкой на валидность молекулы\n",
    "def augment_data(df, noise_level=0.1, num_augments=1):\n",
    "    augmented_data = []\n",
    "\n",
    "    for idx, row in df.iterrows():\n",
    "        smiles = row['SMILES']\n",
    "        logp = row['LogP']\n",
    "        \n",
    "        # Добавляем оригинальную строку в результат\n",
    "        augmented_data.append((smiles, logp))\n",
    "\n",
    "        # Создаём аугментированные строки\n",
    "        mutated_smiles = mutate_smiles(smiles)\n",
    "        mutated_smiles_3 = mutate_smiles_3(smiles)\n",
    "        if (mutated_smiles != None) and (MolFromSmiles(str(mutated_smiles)) != None):\n",
    "            noisy_logp = add_noise_logp(logp, noise_level)\n",
    "            augmented_data.append((mutated_smiles, noisy_logp))\n",
    "        if (mutated_smiles_3 != None) and (MolFromSmiles(str(mutated_smiles_3)) != None):\n",
    "            noisy_logp = add_noise_logp(logp, noise_level)\n",
    "            augmented_data.append((mutated_smiles_3, noisy_logp))\n",
    "    \n",
    "    # Создаём новый DataFrame с аугментированными данными\n",
    "    augmented_df = pd.DataFrame(augmented_data, columns=['SMILES', 'LogP'])\n",
    "\n",
    "    # Убираем дубликаты, оставляя только уникальные SMILES с одним значением LogP\n",
    "    augmented_df = augmented_df.drop_duplicates(subset=['SMILES'])\n",
    "\n",
    "    return augmented_df\n",
    "\n",
    "# Аугментация данных\n",
    "augmented_df = augment_data(train_data, noise_level=0.15, num_augments=2)\n",
    "len(augmented_df)\n",
    "train_data=augmented_df"
   ]
  },
  {
   "cell_type": "code",
   "execution_count": 23,
   "metadata": {
    "execution": {
     "iopub.execute_input": "2025-04-05T10:07:31.933879Z",
     "iopub.status.busy": "2025-04-05T10:07:31.933681Z",
     "iopub.status.idle": "2025-04-05T10:07:31.944509Z",
     "shell.execute_reply": "2025-04-05T10:07:31.943681Z",
     "shell.execute_reply.started": "2025-04-05T10:07:31.933862Z"
    },
    "trusted": true
   },
   "outputs": [
    {
     "name": "stdout",
     "output_type": "stream",
     "text": [
      "Исходный DataFrame: 30986 строк\n",
      "Удалено строк: 6197\n",
      "Осталось строк: 24789\n",
      "                                       SMILES      LogP\n",
      "36119           C=1(C(=CC=CC=1)[N+](=O)[O-])C  3.605000\n",
      "25318             CCCCN(CCC)C1COc2ccc(O)cc2C1  4.996713\n",
      "3395   NC(=O)c1cccc(OCC(=O)CNC(=O)c2ccccc2)c1  2.649671\n",
      "22282               C1=C2C(=O)N(O)C=NC2=CC=C1  0.446000\n",
      "32776                    Clc1ccc(Cn2cncn2)cc1  3.327556\n"
     ]
    }
   ],
   "source": [
    "n = int(len(train_data)*0.2) # размер валидационной выборки\n",
    "random_indices = np.random.choice(train_data.index, size=n, replace=False) # случайне индексы\n",
    "val_data = train_data.loc[random_indices]\n",
    "train_data_remain = train_data.drop(random_indices)\n",
    "\n",
    "print(f\"Исходный DataFrame: {len(train_data)} строк\")\n",
    "print(f\"Удалено строк: {len(val_data)}\")\n",
    "print(f\"Осталось строк: {len(train_data_remain)}\")\n",
    "train_data = train_data_remain\n",
    "print(val_data.head())"
   ]
  },
  {
   "cell_type": "code",
   "execution_count": 7,
   "metadata": {
    "execution": {
     "iopub.execute_input": "2025-04-05T09:22:04.171843Z",
     "iopub.status.busy": "2025-04-05T09:22:04.171564Z",
     "iopub.status.idle": "2025-04-05T09:22:32.729430Z",
     "shell.execute_reply": "2025-04-05T09:22:32.728753Z",
     "shell.execute_reply.started": "2025-04-05T09:22:04.171822Z"
    },
    "trusted": true
   },
   "outputs": [],
   "source": [
    "# вычленение текста смайлс в массив\n",
    "test_smiles_list = test_data['SMILES'].tolist()\n",
    "train_smiles_list = train_data['SMILES'].tolist()\n",
    "val_smiles_list = val_data['SMILES'].tolist()\n",
    "\n",
    "# перевод текста смайлс в смайлс тип\n",
    "train_mols = [smiles(m) for m in train_smiles_list]\n",
    "test_mols = [smiles(m) for m in test_smiles_list]\n",
    "val_mols = [smiles(m) for m in val_smiles_list]"
   ]
  },
  {
   "cell_type": "code",
   "execution_count": 8,
   "metadata": {
    "execution": {
     "iopub.execute_input": "2025-04-05T09:22:32.730784Z",
     "iopub.status.busy": "2025-04-05T09:22:32.730533Z",
     "iopub.status.idle": "2025-04-05T09:23:24.139319Z",
     "shell.execute_reply": "2025-04-05T09:23:24.138357Z",
     "shell.execute_reply.started": "2025-04-05T09:22:32.730762Z"
    },
    "trusted": true
   },
   "outputs": [],
   "source": [
    "# стандартизация молекул\n",
    "\n",
    "def standardize(mol_list):\n",
    "    for m in mol_list:\n",
    "        try:\n",
    "            m.clean_stereo()\n",
    "            m.canonicalize()\n",
    "        except:\n",
    "            print(m)\n",
    "standardize(train_mols)\n",
    "standardize(test_mols)\n",
    "standardize(val_mols)"
   ]
  },
  {
   "cell_type": "code",
   "execution_count": 9,
   "metadata": {
    "execution": {
     "iopub.execute_input": "2025-04-05T09:23:24.141168Z",
     "iopub.status.busy": "2025-04-05T09:23:24.140555Z",
     "iopub.status.idle": "2025-04-05T09:23:45.824676Z",
     "shell.execute_reply": "2025-04-05T09:23:45.824007Z",
     "shell.execute_reply.started": "2025-04-05T09:23:24.141140Z"
    },
    "trusted": true
   },
   "outputs": [],
   "source": [
    "# перевод смайлс в молекулу\n",
    "\n",
    "train_rdkit_mols = [MolFromSmiles(str(m)) for m in train_mols]\n",
    "test_rdkit_mols = [MolFromSmiles(str(m)) for m in test_mols]\n",
    "val_rdkit_mols = [MolFromSmiles(str(m)) for m in val_mols]"
   ]
  },
  {
   "cell_type": "code",
   "execution_count": 10,
   "metadata": {
    "execution": {
     "iopub.execute_input": "2025-04-05T09:23:45.825771Z",
     "iopub.status.busy": "2025-04-05T09:23:45.825554Z",
     "iopub.status.idle": "2025-04-05T09:23:45.831532Z",
     "shell.execute_reply": "2025-04-05T09:23:45.830720Z",
     "shell.execute_reply.started": "2025-04-05T09:23:45.825752Z"
    },
    "trusted": true
   },
   "outputs": [
    {
     "data": {
      "text/plain": [
       "0"
      ]
     },
     "execution_count": 10,
     "metadata": {},
     "output_type": "execute_result"
    }
   ],
   "source": [
    "# число проблемных молекул итоговое\n",
    "\n",
    "sum(1 for mol in train_rdkit_mols if mol is None)"
   ]
  }
 ],
 "metadata": {
  "kaggle": {
   "accelerator": "nvidiaTeslaT4",
   "dataSources": [
    {
     "datasetId": 7049966,
     "sourceId": 11276823,
     "sourceType": "datasetVersion"
    }
   ],
   "dockerImageVersionId": 30919,
   "isGpuEnabled": true,
   "isInternetEnabled": true,
   "language": "python",
   "sourceType": "notebook"
  },
  "kernelspec": {
   "display_name": "Python 3",
   "language": "python",
   "name": "python3"
  },
  "language_info": {
   "codemirror_mode": {
    "name": "ipython",
    "version": 3
   },
   "file_extension": ".py",
   "mimetype": "text/x-python",
   "name": "python",
   "nbconvert_exporter": "python",
   "pygments_lexer": "ipython3",
   "version": "3.10.12"
  }
 },
 "nbformat": 4,
 "nbformat_minor": 4
}
